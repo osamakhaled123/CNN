{
  "cells": [
    {
      "cell_type": "code",
      "execution_count": null,
      "metadata": {
        "id": "V7bYoJ5KsC1L"
      },
      "outputs": [],
      "source": [
        "import numpy as np\n",
        "import tensorflow as tf\n",
        "import tensorflow.keras.layers as KL\n",
        "import tensorflow.keras.models as KM"
      ]
    },
    {
      "cell_type": "code",
      "execution_count": null,
      "metadata": {
        "id": "YWnFnNGcsQCB"
      },
      "outputs": [],
      "source": [
        "mnist = tf.keras.datasets.mnist"
      ]
    },
    {
      "cell_type": "code",
      "execution_count": null,
      "metadata": {
        "colab": {
          "base_uri": "https://localhost:8080/"
        },
        "id": "bwB6zbiusUSu",
        "outputId": "06e4a2c2-277e-4fd1-a172-9eac1f505af4"
      },
      "outputs": [
        {
          "name": "stdout",
          "output_type": "stream",
          "text": [
            "Downloading data from https://storage.googleapis.com/tensorflow/tf-keras-datasets/mnist.npz\n",
            "11493376/11490434 [==============================] - 0s 0us/step\n",
            "11501568/11490434 [==============================] - 0s 0us/step\n"
          ]
        }
      ],
      "source": [
        "(x_train,y_train),(x_test,y_test) = mnist.load_data()"
      ]
    },
    {
      "cell_type": "code",
      "execution_count": null,
      "metadata": {
        "colab": {
          "base_uri": "https://localhost:8080/"
        },
        "id": "IP0gcUV6sfOM",
        "outputId": "88def89d-3785-46c3-ff2c-1ec9415c5390"
      },
      "outputs": [
        {
          "data": {
            "text/plain": [
              "((60000, 28, 28), (60000,), (10000, 28, 28), (10000,))"
            ]
          },
          "execution_count": 4,
          "metadata": {},
          "output_type": "execute_result"
        }
      ],
      "source": [
        "x_train.shape, y_train.shape,x_test.shape,y_test.shape"
      ]
    },
    {
      "cell_type": "code",
      "execution_count": null,
      "metadata": {
        "id": "4gHtseV3skyN"
      },
      "outputs": [],
      "source": [
        "x_train, x_test = x_train/255.0, x_test/255.0"
      ]
    },
    {
      "cell_type": "code",
      "execution_count": null,
      "metadata": {
        "id": "-Sk0jo6wu5a8"
      },
      "outputs": [],
      "source": [
        "x_train, x_test = np.expand_dims(x_train,axis=3), np.expand_dims(x_test,axis=3)"
      ]
    },
    {
      "cell_type": "code",
      "execution_count": null,
      "metadata": {
        "colab": {
          "base_uri": "https://localhost:8080/"
        },
        "id": "IWLQ3tnNu_DO",
        "outputId": "c658c8d0-de42-45e8-9aca-a5852947ce3d"
      },
      "outputs": [
        {
          "data": {
            "text/plain": [
              "((60000, 28, 28, 1), (10000, 28, 28, 1))"
            ]
          },
          "execution_count": 7,
          "metadata": {},
          "output_type": "execute_result"
        }
      ],
      "source": [
        "x_train.shape, x_test.shape"
      ]
    },
    {
      "cell_type": "code",
      "execution_count": null,
      "metadata": {
        "colab": {
          "background_save": true,
          "base_uri": "https://localhost:8080/"
        },
        "id": "u4E5FdRQvOI7",
        "outputId": "cd1f025f-773c-4ef9-b927-b2291dcf5362"
      },
      "outputs": [
        {
          "name": "stdout",
          "output_type": "stream",
          "text": [
            "Model: \"model_1\"\n",
            "_________________________________________________________________\n",
            " Layer (type)                Output Shape              Param #   \n",
            "=================================================================\n",
            " input_2 (InputLayer)        [(None, 28, 28, 1)]       0         \n",
            "                                                                 \n",
            " conv2d_2 (Conv2D)           (None, 26, 26, 32)        320       \n",
            "                                                                 \n",
            " max_pooling2d_2 (MaxPooling  (None, 13, 13, 32)       0         \n",
            " 2D)                                                             \n",
            "                                                                 \n",
            " conv2d_3 (Conv2D)           (None, 11, 11, 32)        9248      \n",
            "                                                                 \n",
            " max_pooling2d_3 (MaxPooling  (None, 5, 5, 32)         0         \n",
            " 2D)                                                             \n",
            "                                                                 \n",
            " flatten_1 (Flatten)         (None, 800)               0         \n",
            "                                                                 \n",
            " dense_2 (Dense)             (None, 128)               102528    \n",
            "                                                                 \n",
            " dense_3 (Dense)             (None, 10)                1290      \n",
            "                                                                 \n",
            "=================================================================\n",
            "Total params: 113,386\n",
            "Trainable params: 113,386\n",
            "Non-trainable params: 0\n",
            "_________________________________________________________________\n",
            "Epoch 1/20\n",
            "1875/1875 - 41s - loss: 0.3324 - accuracy: 0.8950 - 41s/epoch - 22ms/step\n",
            "Epoch 2/20\n",
            "1875/1875 - 40s - loss: 0.0888 - accuracy: 0.9736 - 40s/epoch - 21ms/step\n",
            "Epoch 3/20\n",
            "1875/1875 - 40s - loss: 0.0638 - accuracy: 0.9811 - 40s/epoch - 21ms/step\n",
            "Epoch 4/20\n",
            "1875/1875 - 40s - loss: 0.0502 - accuracy: 0.9849 - 40s/epoch - 21ms/step\n",
            "Epoch 5/20\n",
            "1875/1875 - 40s - loss: 0.0409 - accuracy: 0.9879 - 40s/epoch - 21ms/step\n",
            "Epoch 6/20\n",
            "1875/1875 - 40s - loss: 0.0339 - accuracy: 0.9902 - 40s/epoch - 21ms/step\n",
            "Epoch 7/20\n",
            "1875/1875 - 40s - loss: 0.0289 - accuracy: 0.9915 - 40s/epoch - 21ms/step\n",
            "Epoch 8/20\n",
            "1875/1875 - 39s - loss: 0.0249 - accuracy: 0.9931 - 39s/epoch - 21ms/step\n",
            "Epoch 9/20\n",
            "1875/1875 - 39s - loss: 0.0214 - accuracy: 0.9941 - 39s/epoch - 21ms/step\n",
            "Epoch 10/20\n",
            "1875/1875 - 39s - loss: 0.0181 - accuracy: 0.9951 - 39s/epoch - 21ms/step\n",
            "Epoch 11/20\n",
            "1875/1875 - 39s - loss: 0.0158 - accuracy: 0.9959 - 39s/epoch - 21ms/step\n",
            "Epoch 12/20\n",
            "1875/1875 - 40s - loss: 0.0137 - accuracy: 0.9964 - 40s/epoch - 21ms/step\n",
            "Epoch 13/20\n",
            "1875/1875 - 40s - loss: 0.0110 - accuracy: 0.9977 - 40s/epoch - 21ms/step\n",
            "Epoch 14/20\n",
            "1875/1875 - 40s - loss: 0.0097 - accuracy: 0.9979 - 40s/epoch - 21ms/step\n",
            "Epoch 15/20\n",
            "1875/1875 - 40s - loss: 0.0087 - accuracy: 0.9982 - 40s/epoch - 21ms/step\n",
            "Epoch 16/20\n",
            "1875/1875 - 40s - loss: 0.0072 - accuracy: 0.9989 - 40s/epoch - 21ms/step\n",
            "Epoch 17/20\n",
            "1875/1875 - 40s - loss: 0.0059 - accuracy: 0.9992 - 40s/epoch - 21ms/step\n",
            "Epoch 18/20\n",
            "1875/1875 - 40s - loss: 0.0051 - accuracy: 0.9993 - 40s/epoch - 21ms/step\n",
            "Epoch 19/20\n",
            "1875/1875 - 40s - loss: 0.0043 - accuracy: 0.9995 - 40s/epoch - 21ms/step\n",
            "Epoch 20/20\n",
            "1875/1875 - 40s - loss: 0.0037 - accuracy: 0.9997 - 40s/epoch - 21ms/step\n",
            "313/313 [==============================] - 3s 8ms/step - loss: 0.0279 - accuracy: 0.9907\n",
            "Test loss: 0.02791989967226982 - Test accuracry: 0.9907000064849854\n"
          ]
        }
      ],
      "source": [
        "inputs = KL.Input(shape=(28,28,1))\n",
        "c = KL.Conv2D(32,(3,3),padding='valid',activation=tf.nn.relu)(inputs)\n",
        "m = KL.MaxPool2D((2,2),strides=(2,2))(c)\n",
        "\n",
        "c = KL.Conv2D(32,(3,3),padding='valid',activation=tf.nn.relu)(m)\n",
        "m = KL.MaxPool2D((2,2),strides=(2,2))(c)\n",
        "\n",
        "f = KL.Flatten()(m)\n",
        "\n",
        "c = KL.Dense(128,activation=tf.nn.sigmoid)(f)\n",
        "\n",
        "ouputs = KL.Dense(10,activation=tf.nn.softmax)(c)\n",
        "\n",
        "model = KM.Model(inputs,ouputs)\n",
        "\n",
        "model.summary()\n",
        "\n",
        "model.compile(optimizer=tf.keras.optimizers.SGD(\n",
        "    learning_rate=0.01, momentum=0.9\n",
        "),loss = \"sparse_categorical_crossentropy\",metrics=[\"accuracy\"])\n",
        "\n",
        "model.fit(x_train,y_train,epochs=20,batch_size=32,verbose = 2)\n",
        "test_loss, test_acc = model.evaluate(x_test,y_test)\n",
        "print(\"Test loss: {0} - Test accuracry: {1}\".format(test_loss,test_acc))"
      ]
    }
  ],
  "metadata": {
    "colab": {
      "collapsed_sections": [],
      "name": "CNN.ipynb",
      "provenance": []
    },
    "kernelspec": {
      "display_name": "Python 3",
      "name": "python3"
    },
    "language_info": {
      "name": "python"
    }
  },
  "nbformat": 4,
  "nbformat_minor": 0
}